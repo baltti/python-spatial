{
 "cells": [
  {
   "cell_type": "markdown",
   "id": "4483ea2c",
   "metadata": {},
   "source": [
    "# Создание геометрических объектов\n",
    "\n",
    "Для создания и работы с пространственными данными в Python существует библиотека `shapely` (https://shapely.readthedocs.io/en/stable/index.html).\n",
    "\n",
    "> **NB** эта библиотека умеет работать только на плоскости\n",
    "\n",
    "Каждый объект состоит из *внутреннего, внешнего и граничного* множеств (interior, boundary, and exterior sets of a feature), которые являются взаимоисключающими.\n",
    "\n",
    "Основные типы объектов, реализованные в библиотеке:\n",
    "\n",
    "1. **Point** (точка) - объект с нулевой размерностью, для которого внутреннее множество будет состоять из одной точки, граница - из нулевого количества точек, а внешнее множество представляет собой набор всех остальных возможных точек. Такие объекты относятся к классу `Point`.\n",
    "\n",
    "2. **Curve** (кривая) - объект с размерностью 1, для которого внутреннее множество будет состоять из бесконечного количества точек вдоль линии, граница - из двух точек (начальной и конечной), а внешнее множество представляет собой набор всех остальных возможных точек. Такие объекты относятся к классам `Linestring` (разомкнутая кривая) и `LinearRing` (замкнутая кривая).\n",
    "\n",
    "3. **Surface** (поверхность) - объект с размерностью 2, для которого внутреннее множество будет состоять из бесконечного множества точек, расположенных внутри, граница - из одной или нескольких кривых, а внешнее множество представляет собой набор всех остальных возможных точек, включая те, которые могут находиться в отверстиях поверхности. Такие объекты относятся к классу `Polygon`.\n"
   ]
  },
  {
   "cell_type": "markdown",
   "id": "25c29ed6",
   "metadata": {},
   "source": [
    "В библиотеке `shapely` наиболее применяемыми способами создания объектов являются:\n",
    "- создание объектов из списка координат;\n",
    "- создание объектов из словаря (dictionary `dict` [немного о словарях](https://pythonworld.ru/tipy-dannyx-v-python/slovari-dict-funkcii-i-metody-slovarej.html)), в данном случае фактически словари создаются на основе формата описания географических данных `geojson`;\n",
    "- создание объектов из строки, то есть на основе описания в формате `wkt`"
   ]
  },
  {
   "cell_type": "markdown",
   "id": "9ad56202",
   "metadata": {},
   "source": [
    "Установка библиотеки"
   ]
  },
  {
   "cell_type": "code",
   "execution_count": 1,
   "id": "3c652144",
   "metadata": {},
   "outputs": [
    {
     "name": "stdout",
     "output_type": "stream",
     "text": [
      "Requirement already satisfied: shapely in c:\\users\\baltt\\appdata\\local\\programs\\python\\python310\\lib\\site-packages (1.8.4)\n",
      "Note: you may need to restart the kernel to use updated packages.\n"
     ]
    },
    {
     "name": "stderr",
     "output_type": "stream",
     "text": [
      "\n",
      "[notice] A new release of pip available: 22.2.2 -> 23.0.1\n",
      "[notice] To update, run: python.exe -m pip install --upgrade pip\n"
     ]
    }
   ],
   "source": [
    "pip install shapely"
   ]
  },
  {
   "cell_type": "markdown",
   "id": "03bc4d17",
   "metadata": {},
   "source": [
    "## Создание объектов из списка координат\n",
    "\n",
    "### Точки"
   ]
  },
  {
   "cell_type": "code",
   "execution_count": 3,
   "id": "7af90f97",
   "metadata": {},
   "outputs": [],
   "source": [
    "from shapely.geometry import Point"
   ]
  },
  {
   "cell_type": "markdown",
   "id": "40f5cc7b",
   "metadata": {},
   "source": [
    "Создадим точку из списка координат. Для этого нам достаточно всего одной пары координат."
   ]
  },
  {
   "cell_type": "code",
   "execution_count": 4,
   "id": "ab8117bb",
   "metadata": {},
   "outputs": [],
   "source": [
    "pin_itmo = Point ([59.944295,30.265266])"
   ]
  },
  {
   "cell_type": "markdown",
   "id": "e5165056",
   "metadata": {},
   "source": [
    "Проверим тип полученного объекта."
   ]
  },
  {
   "cell_type": "code",
   "execution_count": 5,
   "id": "bd7c496a",
   "metadata": {},
   "outputs": [
    {
     "name": "stdout",
     "output_type": "stream",
     "text": [
      "Тип объекта: <class 'shapely.geometry.point.Point'>\n"
     ]
    }
   ],
   "source": [
    "print(f\"Тип объекта: {type(pin_itmo)}\")"
   ]
  },
  {
   "cell_type": "markdown",
   "id": "6ce0fc3f",
   "metadata": {},
   "source": [
    "Кроме того, с помощью одного из [методов, реализованных в пакете для классов](https://shapely.readthedocs.io/en/stable/manual.html#general-attributes-and-methods), можно проверить тип геометрии объекта.\n"
   ]
  },
  {
   "cell_type": "code",
   "execution_count": 13,
   "id": "5322bace",
   "metadata": {},
   "outputs": [
    {
     "name": "stdout",
     "output_type": "stream",
     "text": [
      "Тип геометрии объекта: Point\n"
     ]
    }
   ],
   "source": [
    "print(f\"Тип геометрии объекта: {pin_itmo.geom_type}\")"
   ]
  },
  {
   "cell_type": "code",
   "execution_count": 6,
   "id": "d16bb38d",
   "metadata": {},
   "outputs": [
    {
     "data": {
      "image/svg+xml": [
       "<svg xmlns=\"http://www.w3.org/2000/svg\" xmlns:xlink=\"http://www.w3.org/1999/xlink\" width=\"100.0\" height=\"100.0\" viewBox=\"58.944295 29.265266 2.0 2.0\" preserveAspectRatio=\"xMinYMin meet\"><g transform=\"matrix(1,0,0,-1,0,60.530532)\"><circle cx=\"59.944295\" cy=\"30.265266\" r=\"0.06\" stroke=\"#555555\" stroke-width=\"0.02\" fill=\"#66cc99\" opacity=\"0.6\" /></g></svg>"
      ],
      "text/plain": [
       "<shapely.geometry.point.Point at 0x24cff16da80>"
      ]
     },
     "execution_count": 6,
     "metadata": {},
     "output_type": "execute_result"
    }
   ],
   "source": [
    "pin_itmo"
   ]
  },
  {
   "cell_type": "markdown",
   "id": "d6ec7e37",
   "metadata": {},
   "source": [
    "### Линии"
   ]
  },
  {
   "cell_type": "code",
   "execution_count": 8,
   "id": "0fe86aac",
   "metadata": {},
   "outputs": [],
   "source": [
    "from shapely.geometry import LineString"
   ]
  },
  {
   "cell_type": "markdown",
   "id": "1b648745",
   "metadata": {},
   "source": [
    "Так как линия состоит из множества точек, а границей являются начальная и конечная точки линии, то для ее создания нужно как минимум две пары координат, заданных в виде [кортежа](https://younglinux.info/python/tuple) (`tuple`).\n",
    "\n",
    "> Линия создается в том порядке, в котором координаты точек перечисляются в кортеже"
   ]
  },
  {
   "cell_type": "code",
   "execution_count": 12,
   "id": "b1b5316b",
   "metadata": {},
   "outputs": [
    {
     "data": {
      "image/svg+xml": [
       "<svg xmlns=\"http://www.w3.org/2000/svg\" xmlns:xlink=\"http://www.w3.org/1999/xlink\" width=\"100.0\" height=\"100.0\" viewBox=\"59.92918056 30.257145559999998 0.007617879999997967 0.011972880000005404\" preserveAspectRatio=\"xMinYMin meet\"><g transform=\"matrix(1,0,0,-1,0,60.526264)\"><polyline fill=\"none\" stroke=\"#66cc99\" stroke-width=\"0.00023945760000010808\" points=\"59.929624,30.268675 59.936355,30.257589\" opacity=\"0.8\" /></g></svg>"
      ],
      "text/plain": [
       "<shapely.geometry.linestring.LineString at 0x24cff16e800>"
      ]
     },
     "execution_count": 12,
     "metadata": {},
     "output_type": "execute_result"
    }
   ],
   "source": [
    "pointsList = [[59.929624, 30.268675], [59.936355, 30.257589]]\n",
    "line = LineString (pointsList)"
   ]
  },
  {
   "cell_type": "code",
   "execution_count": 10,
   "id": "cb52acf0",
   "metadata": {},
   "outputs": [
    {
     "name": "stdout",
     "output_type": "stream",
     "text": [
      "Тип объекта: <class 'shapely.geometry.linestring.LineString'>\n"
     ]
    }
   ],
   "source": [
    "print(f\"Тип объекта: {type(line)}\")"
   ]
  },
  {
   "cell_type": "code",
   "execution_count": null,
   "id": "6ac282d3",
   "metadata": {},
   "outputs": [],
   "source": [
    "print(f\"Тип геометрии объекта: {line.geom_type}\")"
   ]
  },
  {
   "cell_type": "code",
   "execution_count": 11,
   "id": "09c8a116",
   "metadata": {},
   "outputs": [
    {
     "data": {
      "image/svg+xml": [
       "<svg xmlns=\"http://www.w3.org/2000/svg\" xmlns:xlink=\"http://www.w3.org/1999/xlink\" width=\"100.0\" height=\"100.0\" viewBox=\"59.92918056 30.257145559999998 0.007617879999997967 0.011972880000005404\" preserveAspectRatio=\"xMinYMin meet\"><g transform=\"matrix(1,0,0,-1,0,60.526264)\"><polyline fill=\"none\" stroke=\"#66cc99\" stroke-width=\"0.00023945760000010808\" points=\"59.929624,30.268675 59.936355,30.257589\" opacity=\"0.8\" /></g></svg>"
      ],
      "text/plain": [
       "<shapely.geometry.linestring.LineString at 0x24cff16e920>"
      ]
     },
     "execution_count": 11,
     "metadata": {},
     "output_type": "execute_result"
    }
   ],
   "source": [
    "line"
   ]
  },
  {
   "attachments": {
    "linestring.png": {
     "image/png": "[encoded data removed]"
    }
   },
   "cell_type": "markdown",
   "id": "312da584",
   "metadata": {},
   "source": [
    "Если нужно создать ломаную линию, то просто в список нужно внести не только координаты начальной и конечной точки, но и всех промежуточных поворотных точек.\n",
    "\n",
    "> Линия может пересекать сама себя. \n",
    "Линия без самопересечений является простой (*simple*), а с самопересечениями - комплексной (*complex*).\n",
    "\n",
    "![linestring.png](attachment:linestring.png)"
   ]
  },
  {
   "cell_type": "code",
   "execution_count": 14,
   "id": "9c0f7f41",
   "metadata": {},
   "outputs": [],
   "source": [
    "pointsList1 = [[59.929624, 30.268675], [59.936355, 30.257589], \n",
    "               [59.944295,30.265266], [59.943311, 30.268789]]\n",
    "line1 = LineString (pointsList1)"
   ]
  },
  {
   "cell_type": "code",
   "execution_count": 15,
   "id": "fc126568",
   "metadata": {},
   "outputs": [
    {
     "data": {
      "image/svg+xml": [
       "<svg xmlns=\"http://www.w3.org/2000/svg\" xmlns:xlink=\"http://www.w3.org/1999/xlink\" width=\"100.0\" height=\"100.0\" viewBox=\"59.92903716 30.25700216 0.015844679999993616 0.012373680000003162\" preserveAspectRatio=\"xMinYMin meet\"><g transform=\"matrix(1,0,0,-1,0,60.526378)\"><polyline fill=\"none\" stroke=\"#66cc99\" stroke-width=\"0.0003168935999998723\" points=\"59.929624,30.268675 59.936355,30.257589 59.944295,30.265266 59.943311,30.268789\" opacity=\"0.8\" /></g></svg>"
      ],
      "text/plain": [
       "<shapely.geometry.linestring.LineString at 0x24cff16e650>"
      ]
     },
     "execution_count": 15,
     "metadata": {},
     "output_type": "execute_result"
    }
   ],
   "source": [
    "line1"
   ]
  },
  {
   "cell_type": "markdown",
   "id": "ecb20b24",
   "metadata": {},
   "source": [
    "Кроме того, линия может быть создана из нескольких точек или кортежа с парами координат."
   ]
  },
  {
   "cell_type": "code",
   "execution_count": 17,
   "id": "973935e8",
   "metadata": {},
   "outputs": [
    {
     "data": {
      "image/svg+xml": [
       "<svg xmlns=\"http://www.w3.org/2000/svg\" xmlns:xlink=\"http://www.w3.org/1999/xlink\" width=\"100.0\" height=\"100.0\" viewBox=\"59.92903716 30.25700216 0.015844679999993616 0.012259680000003215\" preserveAspectRatio=\"xMinYMin meet\"><g transform=\"matrix(1,0,0,-1,0,60.526264)\"><polyline fill=\"none\" stroke=\"#66cc99\" stroke-width=\"0.0003168935999998723\" points=\"59.929624,30.268675 59.944295,30.265266 59.936355,30.257589\" opacity=\"0.8\" /></g></svg>"
      ],
      "text/plain": [
       "<shapely.geometry.linestring.LineString at 0x24cecd029b0>"
      ]
     },
     "execution_count": 17,
     "metadata": {},
     "output_type": "execute_result"
    }
   ],
   "source": [
    "LineString([Point(59.929624, 30.268675), pin_itmo, (59.936355, 30.257589)])"
   ]
  },
  {
   "cell_type": "markdown",
   "id": "5c018304",
   "metadata": {},
   "source": [
    "Линии также могут быть замкнутыми. Для их создания используется класс `LinearRing`.\n",
    "\n",
    "Главное отличие в создании между `LineString` и `LinearRing` в том, что для второго класса обязательно нужно в конце повторить координаты первой точки.\n",
    "\n",
    "> Замкнутые линии не могут пересекать сами себя и касаться самих себя"
   ]
  },
  {
   "attachments": {
    "linearring.png": {
     "image/png": "[encoded data removed]"
    }
   },
   "cell_type": "markdown",
   "id": "6b7d85da",
   "metadata": {},
   "source": [
    "![linearring.png](attachment:linearring.png)"
   ]
  },
  {
   "cell_type": "markdown",
   "id": "ac16e5cd",
   "metadata": {},
   "source": [
    "> Важно помнить, что это все еще линия, то есть у нее нулевая площадь и ненулевая длина."
   ]
  },
  {
   "cell_type": "code",
   "execution_count": 23,
   "id": "f4f5b5e0",
   "metadata": {},
   "outputs": [],
   "source": [
    "pointsList2 = [[59.929624, 30.268675], [59.936355, 30.257589], \n",
    "               [59.944295,30.265266], [59.943311, 30.268789],\n",
    "               [59.929624, 30.268675]]\n",
    "line2 = LineString (pointsList2)"
   ]
  },
  {
   "cell_type": "code",
   "execution_count": 24,
   "id": "b431d058",
   "metadata": {},
   "outputs": [
    {
     "data": {
      "image/svg+xml": [
       "<svg xmlns=\"http://www.w3.org/2000/svg\" xmlns:xlink=\"http://www.w3.org/1999/xlink\" width=\"100.0\" height=\"100.0\" viewBox=\"59.92903716 30.25700216 0.015844679999993616 0.012373680000003162\" preserveAspectRatio=\"xMinYMin meet\"><g transform=\"matrix(1,0,0,-1,0,60.526378)\"><polyline fill=\"none\" stroke=\"#66cc99\" stroke-width=\"0.0003168935999998723\" points=\"59.929624,30.268675 59.936355,30.257589 59.944295,30.265266 59.943311,30.268789 59.929624,30.268675\" opacity=\"0.8\" /></g></svg>"
      ],
      "text/plain": [
       "<shapely.geometry.linestring.LineString at 0x24cff16e860>"
      ]
     },
     "execution_count": 24,
     "metadata": {},
     "output_type": "execute_result"
    }
   ],
   "source": [
    "line2"
   ]
  },
  {
   "cell_type": "markdown",
   "id": "862ccf2c",
   "metadata": {},
   "source": [
    "### Полигоны"
   ]
  },
  {
   "cell_type": "code",
   "execution_count": 18,
   "id": "14275a28",
   "metadata": {},
   "outputs": [],
   "source": [
    "from shapely.geometry import Polygon"
   ]
  },
  {
   "cell_type": "markdown",
   "id": "8372bde0",
   "metadata": {},
   "source": [
    "При создании полигонов в качестве параметров сначала подается последовательность кортежей с координатами, а потом неупорядоченная последовательность кольцеподобных последовательностей, определяющих внутренние границы или \"отверстия\" объекта.\n",
    "\n",
    "> Отверстия внутри полигона могут касаться его внешних границ только в одной точке, не могут иметь между собой общие границы и не могут пересекаться.\n",
    "> Такие случаи приводят к созданию некорректных полигонов.\n",
    "\n",
    "> **!** `shapely` не предотвращает создание некорректных объектов, но дальнейшие операции с ними могут быть невозможны."
   ]
  },
  {
   "attachments": {
    "polygon.png": {
     "image/png": "[encoded data removed]"
    }
   },
   "cell_type": "markdown",
   "id": "335a5820",
   "metadata": {},
   "source": [
    "![polygon.png](attachment:polygon.png)"
   ]
  },
  {
   "attachments": {
    "polygon2.png": {
     "image/png": "[encoded data removed]"
    }
   },
   "cell_type": "markdown",
   "id": "669c5ac1",
   "metadata": {},
   "source": [
    "![polygon2.png](attachment:polygon2.png)"
   ]
  },
  {
   "cell_type": "code",
   "execution_count": 19,
   "id": "8393c695",
   "metadata": {},
   "outputs": [],
   "source": [
    "pointList = [[59.928813,30.268443], [59.928813,30.268443],[59.931574,30.268144],[59.929816,30.270000]]\n",
    "\n",
    "poly_mining = Polygon(pointList)"
   ]
  },
  {
   "cell_type": "code",
   "execution_count": 20,
   "id": "f00771e3",
   "metadata": {},
   "outputs": [
    {
     "data": {
      "image/svg+xml": [
       "<svg xmlns=\"http://www.w3.org/2000/svg\" xmlns:xlink=\"http://www.w3.org/1999/xlink\" width=\"100.0\" height=\"100.0\" viewBox=\"59.92870256 30.26803356 0.0029818800000001033 0.002076880000000614\" preserveAspectRatio=\"xMinYMin meet\"><g transform=\"matrix(1,0,0,-1,0,60.538144)\"><path fill-rule=\"evenodd\" fill=\"#66cc99\" stroke=\"#555555\" stroke-width=\"5.9637600000002066e-05\" opacity=\"0.6\" d=\"M 59.928813,30.268443 L 59.928813,30.268443 L 59.931574,30.268144 L 59.929816,30.27 L 59.928813,30.268443 z\" /></g></svg>"
      ],
      "text/plain": [
       "<shapely.geometry.polygon.Polygon at 0x24cff16e590>"
      ]
     },
     "execution_count": 20,
     "metadata": {},
     "output_type": "execute_result"
    }
   ],
   "source": [
    "poly_mining"
   ]
  },
  {
   "cell_type": "code",
   "execution_count": 21,
   "id": "ffeb35e9",
   "metadata": {},
   "outputs": [
    {
     "name": "stdout",
     "output_type": "stream",
     "text": [
      "Тип объекта: <class 'shapely.geometry.polygon.Polygon'>\n"
     ]
    }
   ],
   "source": [
    "print(f\"Тип объекта: {type(poly_mining)}\")"
   ]
  },
  {
   "cell_type": "code",
   "execution_count": 22,
   "id": "c930d2f9",
   "metadata": {},
   "outputs": [
    {
     "name": "stdout",
     "output_type": "stream",
     "text": [
      "Тип объекта: Polygon\n"
     ]
    }
   ],
   "source": [
    "print(f\"Тип геометрии объекта: {poly_mining.geom_type}\")"
   ]
  },
  {
   "cell_type": "code",
   "execution_count": null,
   "id": "f51212df",
   "metadata": {},
   "outputs": [],
   "source": []
  },
  {
   "cell_type": "code",
   "execution_count": null,
   "id": "d59d59de",
   "metadata": {},
   "outputs": [],
   "source": []
  }
 ],
 "metadata": {
  "kernelspec": {
   "display_name": "Python 3 (ipykernel)",
   "language": "python",
   "name": "python3"
  },
  "language_info": {
   "codemirror_mode": {
    "name": "ipython",
    "version": 3
   },
   "file_extension": ".py",
   "mimetype": "text/x-python",
   "name": "python",
   "nbconvert_exporter": "python",
   "pygments_lexer": "ipython3",
   "version": "3.10.7"
  }
 },
 "nbformat": 4,
 "nbformat_minor": 5
}
