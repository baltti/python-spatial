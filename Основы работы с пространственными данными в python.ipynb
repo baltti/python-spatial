{
 "cells": [
  {
   "cell_type": "markdown",
   "id": "6dd52074",
   "metadata": {},
   "source": [
    "# Создание геометрических объектов\n",
    "\n",
    "Для создания и работы с пространственными данными в Python существует библиотека `shapely` (https://shapely.readthedocs.io/en/stable/index.html).\n",
    "\n",
    "> **NB** эта библиотека умеет работать только на плоскости\n",
    "\n",
    "Каждый объект состоит из *внутреннего, внешнего и граничного* множеств (interior, boundary, and exterior sets of a feature), которые являются взаимоисключающими.\n",
    "\n",
    "Основные типы объектов, реализованные в библиотеке:\n",
    "\n",
    "1. **Point** (точка) - объект с нулевой размерностью, для которого внутреннее множество будет состоять из одной точки, граница - из нулевого количества точек, а внешнее множество представляет собой набор всех остальных возможных точек. Такие объекты относятся к классу `Point`.\n",
    "\n",
    "2. **Curve** (кривая) - объект с размерностью 1, для которого внутреннее множество будет состоять из бесконечного количества точек вдоль линии, граница - из двух точек (начальной и конечной), а внешнее множество представляет собой набор всех остальных возможных точек. Такие объекты относятся к классам `Linestring` (разомкнутая кривая) и `LinearRing` (замкнутая кривая).\n",
    "\n",
    "3. **Surface** (поверхность) - объект с размерностью 2, для которого внутреннее множество будет состоять из бесконечного множества точек, расположенных внутри, граница - из одной или нескольких кривых, а внешнее множество представляет собой набор всех остальных возможных точек, включая те, которые могут находиться в отверстиях поверхности. Такие объекты относятся к классу `Polygon`.\n"
   ]
  },
  {
   "cell_type": "markdown",
   "id": "b465de6f",
   "metadata": {},
   "source": [
    "В библиотеке `shapely` наиболее применяемыми способами создания объектов являются:\n",
    "- создание объектов из списка координат;\n",
    "- создание объектов из словаря (dictionary `dict` [немного о словарях](https://pythonworld.ru/tipy-dannyx-v-python/slovari-dict-funkcii-i-metody-slovarej.html)), в данном случае фактически словари создаются на основе формата описания географических данных `geojson`;\n",
    "- создание объектов из строки, то есть на основе описания в формате `wkt`"
   ]
  },
  {
   "cell_type": "markdown",
   "id": "91640d89",
   "metadata": {},
   "source": [
    "Установка библиотеки"
   ]
  },
  {
   "cell_type": "code",
   "execution_count": 1,
   "id": "b49f1281",
   "metadata": {},
   "outputs": [
    {
     "name": "stdout",
     "output_type": "stream",
     "text": [
      "Requirement already satisfied: shapely in c:\\users\\baltt\\appdata\\local\\programs\\python\\python310\\lib\\site-packages (1.8.4)\n",
      "Note: you may need to restart the kernel to use updated packages.\n"
     ]
    },
    {
     "name": "stderr",
     "output_type": "stream",
     "text": [
      "\n",
      "[notice] A new release of pip available: 22.2.2 -> 23.0.1\n",
      "[notice] To update, run: python.exe -m pip install --upgrade pip\n"
     ]
    }
   ],
   "source": [
    "pip install shapely"
   ]
  },
  {
   "cell_type": "markdown",
   "id": "a9907940",
   "metadata": {},
   "source": [
    "## Создание объектов из списка координат\n",
    "\n",
    "### Точки"
   ]
  },
  {
   "cell_type": "code",
   "execution_count": 3,
   "id": "c0404e2d",
   "metadata": {},
   "outputs": [],
   "source": [
    "from shapely.geometry import Point"
   ]
  },
  {
   "cell_type": "markdown",
   "id": "ea429303",
   "metadata": {},
   "source": [
    "Создадим точку из списка координат. Для этого нам достаточно всего одной пары координат."
   ]
  },
  {
   "cell_type": "code",
   "execution_count": 4,
   "id": "96b52883",
   "metadata": {},
   "outputs": [],
   "source": [
    "pin_itmo = Point ([59.944295,30.265266])"
   ]
  },
  {
   "cell_type": "markdown",
   "id": "37d3d1ef",
   "metadata": {},
   "source": [
    "Проверим тип полученного объекта."
   ]
  },
  {
   "cell_type": "code",
   "execution_count": 5,
   "id": "a14ce2c5",
   "metadata": {},
   "outputs": [
    {
     "name": "stdout",
     "output_type": "stream",
     "text": [
      "Тип объекта: <class 'shapely.geometry.point.Point'>\n"
     ]
    }
   ],
   "source": [
    "print(f\"Тип объекта: {type(pin_itmo)}\")"
   ]
  },
  {
   "cell_type": "markdown",
   "id": "313a0f83",
   "metadata": {},
   "source": [
    "Кроме того, с помощью одного из [методов, реализованных в пакете для классов](https://shapely.readthedocs.io/en/stable/manual.html#general-attributes-and-methods), можно проверить тип геометрии объекта.\n"
   ]
  },
  {
   "cell_type": "code",
   "execution_count": 13,
   "id": "d31a6381",
   "metadata": {},
   "outputs": [
    {
     "name": "stdout",
     "output_type": "stream",
     "text": [
      "Тип геометрии объекта: Point\n"
     ]
    }
   ],
   "source": [
    "print(f\"Тип геометрии объекта: {pin_itmo.geom_type}\")"
   ]
  },
  {
   "cell_type": "code",
   "execution_count": 6,
   "id": "9c3cc8cd",
   "metadata": {},
   "outputs": [
    {
     "data": {
      "image/svg+xml": [
       "<svg xmlns=\"http://www.w3.org/2000/svg\" xmlns:xlink=\"http://www.w3.org/1999/xlink\" width=\"100.0\" height=\"100.0\" viewBox=\"58.944295 29.265266 2.0 2.0\" preserveAspectRatio=\"xMinYMin meet\"><g transform=\"matrix(1,0,0,-1,0,60.530532)\"><circle cx=\"59.944295\" cy=\"30.265266\" r=\"0.06\" stroke=\"#555555\" stroke-width=\"0.02\" fill=\"#66cc99\" opacity=\"0.6\" /></g></svg>"
      ],
      "text/plain": [
       "<shapely.geometry.point.Point at 0x24cff16da80>"
      ]
     },
     "execution_count": 6,
     "metadata": {},
     "output_type": "execute_result"
    }
   ],
   "source": [
    "pin_itmo"
   ]
  },
  {
   "cell_type": "markdown",
   "id": "06eaa2c8",
   "metadata": {},
   "source": [
    "### Линии"
   ]
  },
  {
   "cell_type": "code",
   "execution_count": 8,
   "id": "cfd25136",
   "metadata": {},
   "outputs": [],
   "source": [
    "from shapely.geometry import LineString"
   ]
  },
  {
   "cell_type": "markdown",
   "id": "88bbef5b",
   "metadata": {},
   "source": [
    "Так как линия состоит из множества точек, а границей являются начальная и конечная точки линии, то для ее создания нужно как минимум две пары координат, заданных в виде [кортежа](https://younglinux.info/python/tuple) (`tuple`).\n",
    "\n",
    "> Линия создается в том порядке, в котором координаты точек перечисляются в кортеже"
   ]
  },
  {
   "cell_type": "code",
   "execution_count": 12,
   "id": "b4fac8ca",
   "metadata": {},
   "outputs": [
    {
     "data": {
      "image/svg+xml": [
       "<svg xmlns=\"http://www.w3.org/2000/svg\" xmlns:xlink=\"http://www.w3.org/1999/xlink\" width=\"100.0\" height=\"100.0\" viewBox=\"59.92918056 30.257145559999998 0.007617879999997967 0.011972880000005404\" preserveAspectRatio=\"xMinYMin meet\"><g transform=\"matrix(1,0,0,-1,0,60.526264)\"><polyline fill=\"none\" stroke=\"#66cc99\" stroke-width=\"0.00023945760000010808\" points=\"59.929624,30.268675 59.936355,30.257589\" opacity=\"0.8\" /></g></svg>"
      ],
      "text/plain": [
       "<shapely.geometry.linestring.LineString at 0x24cff16e800>"
      ]
     },
     "execution_count": 12,
     "metadata": {},
     "output_type": "execute_result"
    }
   ],
   "source": [
    "pointsList = [[59.929624, 30.268675], [59.936355, 30.257589]]\n",
    "line = LineString (pointsList)"
   ]
  },
  {
   "cell_type": "code",
   "execution_count": 10,
   "id": "d8d8712a",
   "metadata": {},
   "outputs": [
    {
     "name": "stdout",
     "output_type": "stream",
     "text": [
      "Тип объекта: <class 'shapely.geometry.linestring.LineString'>\n"
     ]
    }
   ],
   "source": [
    "print(f\"Тип объекта: {type(line)}\")"
   ]
  },
  {
   "cell_type": "code",
   "execution_count": null,
   "id": "d65cf8fa",
   "metadata": {},
   "outputs": [],
   "source": [
    "print(f\"Тип геометрии объекта: {line.geom_type}\")"
   ]
  },
  {
   "cell_type": "code",
   "execution_count": 11,
   "id": "3647c3d0",
   "metadata": {},
   "outputs": [
    {
     "data": {
      "image/svg+xml": [
       "<svg xmlns=\"http://www.w3.org/2000/svg\" xmlns:xlink=\"http://www.w3.org/1999/xlink\" width=\"100.0\" height=\"100.0\" viewBox=\"59.92918056 30.257145559999998 0.007617879999997967 0.011972880000005404\" preserveAspectRatio=\"xMinYMin meet\"><g transform=\"matrix(1,0,0,-1,0,60.526264)\"><polyline fill=\"none\" stroke=\"#66cc99\" stroke-width=\"0.00023945760000010808\" points=\"59.929624,30.268675 59.936355,30.257589\" opacity=\"0.8\" /></g></svg>"
      ],
      "text/plain": [
       "<shapely.geometry.linestring.LineString at 0x24cff16e920>"
      ]
     },
     "execution_count": 11,
     "metadata": {},
     "output_type": "execute_result"
    }
   ],
   "source": [
    "line"
   ]
  },
  {
   "attachments": {
    "linestring.png": {
     "image/png": "[encoded data removed]"
    }
   },
   "cell_type": "markdown",
   "id": "897b1740",
   "metadata": {},
   "source": [
    "Если нужно создать ломаную линию, то просто в список нужно внести не только координаты начальной и конечной точки, но и всех промежуточных поворотных точек.\n",
    "\n",
    "> Линия может пересекать сама себя. \n",
    "Линия без самопересечений является простой (*simple*), а с самопересечениями - комплексной (*complex*).\n",
    "\n",
    "![linestring.png](attachment:linestring.png)"
   ]
  },
  {
   "cell_type": "code",
   "execution_count": 14,
   "id": "8520e6e5",
   "metadata": {},
   "outputs": [],
   "source": [
    "pointsList1 = [[59.929624, 30.268675], [59.936355, 30.257589], \n",
    "               [59.944295,30.265266], [59.943311, 30.268789]]\n",
    "line1 = LineString (pointsList1)"
   ]
  },
  {
   "cell_type": "code",
   "execution_count": 15,
   "id": "1211a03f",
   "metadata": {},
   "outputs": [
    {
     "data": {
      "image/svg+xml": [
       "<svg xmlns=\"http://www.w3.org/2000/svg\" xmlns:xlink=\"http://www.w3.org/1999/xlink\" width=\"100.0\" height=\"100.0\" viewBox=\"59.92903716 30.25700216 0.015844679999993616 0.012373680000003162\" preserveAspectRatio=\"xMinYMin meet\"><g transform=\"matrix(1,0,0,-1,0,60.526378)\"><polyline fill=\"none\" stroke=\"#66cc99\" stroke-width=\"0.0003168935999998723\" points=\"59.929624,30.268675 59.936355,30.257589 59.944295,30.265266 59.943311,30.268789\" opacity=\"0.8\" /></g></svg>"
      ],
      "text/plain": [
       "<shapely.geometry.linestring.LineString at 0x24cff16e650>"
      ]
     },
     "execution_count": 15,
     "metadata": {},
     "output_type": "execute_result"
    }
   ],
   "source": [
    "line1"
   ]
  },
  {
   "cell_type": "markdown",
   "id": "467295fc",
   "metadata": {},
   "source": [
    "Кроме того, линия может быть создана из нескольких точек или кортежа с парами координат."
   ]
  },
  {
   "cell_type": "code",
   "execution_count": 17,
   "id": "3601ea6e",
   "metadata": {},
   "outputs": [
    {
     "data": {
      "image/svg+xml": [
       "<svg xmlns=\"http://www.w3.org/2000/svg\" xmlns:xlink=\"http://www.w3.org/1999/xlink\" width=\"100.0\" height=\"100.0\" viewBox=\"59.92903716 30.25700216 0.015844679999993616 0.012259680000003215\" preserveAspectRatio=\"xMinYMin meet\"><g transform=\"matrix(1,0,0,-1,0,60.526264)\"><polyline fill=\"none\" stroke=\"#66cc99\" stroke-width=\"0.0003168935999998723\" points=\"59.929624,30.268675 59.944295,30.265266 59.936355,30.257589\" opacity=\"0.8\" /></g></svg>"
      ],
      "text/plain": [
       "<shapely.geometry.linestring.LineString at 0x24cecd029b0>"
      ]
     },
     "execution_count": 17,
     "metadata": {},
     "output_type": "execute_result"
    }
   ],
   "source": [
    "LineString([Point(59.929624, 30.268675), pin_itmo, (59.936355, 30.257589)])"
   ]
  },
  {
   "cell_type": "markdown",
   "id": "a268ed5b",
   "metadata": {},
   "source": [
    "Линии также могут быть замкнутыми. Для их создания используется класс `LinearRing`.\n",
    "\n",
    "Главное отличие в создании между `LineString` и `LinearRing` в том, что для второго класса обязательно нужно в конце повторить координаты первой точки.\n",
    "\n",
    "> Замкнутые линии не могут пересекать сами себя и касаться самих себя"
   ]
  },
  {
   "attachments": {
    "linearring.png": {
     "image/png": "[encoded data removed]"
    }
   },
   "cell_type": "markdown",
   "id": "7e0723e7",
   "metadata": {},
   "source": [
    "![linearring.png](attachment:linearring.png)"
   ]
  },
  {
   "cell_type": "markdown",
   "id": "1ddab7bc",
   "metadata": {},
   "source": [
    "> Важно помнить, что это все еще линия, то есть у нее нулевая площадь и ненулевая длина."
   ]
  },
  {
   "cell_type": "code",
   "execution_count": 57,
   "id": "9c1d5561",
   "metadata": {},
   "outputs": [],
   "source": [
    "pointsList2 = [[59.929624, 30.268675], [59.936355, 30.257589], \n",
    "               [59.944295,30.265266], [59.943311, 30.268789],\n",
    "               [59.929624, 30.268675]]\n",
    "line2 = LineString (pointsList2)"
   ]
  },
  {
   "cell_type": "code",
   "execution_count": 24,
   "id": "1ea6306a",
   "metadata": {},
   "outputs": [
    {
     "data": {
      "image/svg+xml": [
       "<svg xmlns=\"http://www.w3.org/2000/svg\" xmlns:xlink=\"http://www.w3.org/1999/xlink\" width=\"100.0\" height=\"100.0\" viewBox=\"59.92903716 30.25700216 0.015844679999993616 0.012373680000003162\" preserveAspectRatio=\"xMinYMin meet\"><g transform=\"matrix(1,0,0,-1,0,60.526378)\"><polyline fill=\"none\" stroke=\"#66cc99\" stroke-width=\"0.0003168935999998723\" points=\"59.929624,30.268675 59.936355,30.257589 59.944295,30.265266 59.943311,30.268789 59.929624,30.268675\" opacity=\"0.8\" /></g></svg>"
      ],
      "text/plain": [
       "<shapely.geometry.linestring.LineString at 0x24cff16e860>"
      ]
     },
     "execution_count": 24,
     "metadata": {},
     "output_type": "execute_result"
    }
   ],
   "source": [
    "line2"
   ]
  },
  {
   "cell_type": "markdown",
   "id": "4d51645b",
   "metadata": {},
   "source": [
    "### Полигоны"
   ]
  },
  {
   "cell_type": "code",
   "execution_count": 18,
   "id": "4d3d1a1a",
   "metadata": {},
   "outputs": [],
   "source": [
    "from shapely.geometry import Polygon"
   ]
  },
  {
   "cell_type": "markdown",
   "id": "70f5d694",
   "metadata": {},
   "source": [
    "При создании полигонов в качестве параметров сначала подается список или кортеж с координатами, а потом неупорядоченная последовательность кольцевых последовательностей, определяющих внутренние границы или \"отверстия\" объекта.\n",
    "\n",
    "> Отверстия внутри полигона могут касаться его внешних границ только в одной точке, не могут иметь между собой общие границы и не могут пересекаться.\n",
    "> Такие случаи приводят к созданию некорректных полигонов.\n",
    "\n",
    "> **!** `shapely` не предотвращает создание некорректных объектов, но дальнейшие операции с ними могут быть невозможны."
   ]
  },
  {
   "attachments": {
    "polygon.png": {
     "image/png": "[encoded data removed]"
    }
   },
   "cell_type": "markdown",
   "id": "77f0cafd",
   "metadata": {},
   "source": [
    "![polygon.png](attachment:polygon.png)"
   ]
  },
  {
   "attachments": {
    "polygon2.png": {
     "image/png": "[encoded data removed]"
    }
   },
   "cell_type": "markdown",
   "id": "0c3ac8c6",
   "metadata": {},
   "source": [
    "![polygon2.png](attachment:polygon2.png)"
   ]
  },
  {
   "cell_type": "code",
   "execution_count": 19,
   "id": "172008b6",
   "metadata": {},
   "outputs": [],
   "source": [
    "pointList = [[59.928813,30.268443], [59.928813,30.268443],[59.931574,30.268144],[59.929816,30.270000]]\n",
    "\n",
    "poly_mining = Polygon(pointList)"
   ]
  },
  {
   "cell_type": "code",
   "execution_count": 20,
   "id": "6fc1b3a3",
   "metadata": {},
   "outputs": [
    {
     "data": {
      "image/svg+xml": [
       "<svg xmlns=\"http://www.w3.org/2000/svg\" xmlns:xlink=\"http://www.w3.org/1999/xlink\" width=\"100.0\" height=\"100.0\" viewBox=\"59.92870256 30.26803356 0.0029818800000001033 0.002076880000000614\" preserveAspectRatio=\"xMinYMin meet\"><g transform=\"matrix(1,0,0,-1,0,60.538144)\"><path fill-rule=\"evenodd\" fill=\"#66cc99\" stroke=\"#555555\" stroke-width=\"5.9637600000002066e-05\" opacity=\"0.6\" d=\"M 59.928813,30.268443 L 59.928813,30.268443 L 59.931574,30.268144 L 59.929816,30.27 L 59.928813,30.268443 z\" /></g></svg>"
      ],
      "text/plain": [
       "<shapely.geometry.polygon.Polygon at 0x24cff16e590>"
      ]
     },
     "execution_count": 20,
     "metadata": {},
     "output_type": "execute_result"
    }
   ],
   "source": [
    "poly_mining"
   ]
  },
  {
   "cell_type": "code",
   "execution_count": 21,
   "id": "0ab14ada",
   "metadata": {},
   "outputs": [
    {
     "name": "stdout",
     "output_type": "stream",
     "text": [
      "Тип объекта: <class 'shapely.geometry.polygon.Polygon'>\n"
     ]
    }
   ],
   "source": [
    "print(f\"Тип объекта: {type(poly_mining)}\")"
   ]
  },
  {
   "cell_type": "code",
   "execution_count": 22,
   "id": "4d7ed806",
   "metadata": {},
   "outputs": [
    {
     "name": "stdout",
     "output_type": "stream",
     "text": [
      "Тип объекта: Polygon\n"
     ]
    }
   ],
   "source": [
    "print(f\"Тип геометрии объекта: {poly_mining.geom_type}\")"
   ]
  },
  {
   "cell_type": "markdown",
   "id": "6d93e7a4",
   "metadata": {},
   "source": [
    "Получим список координат границы полигона.\n",
    "\n",
    "Координаты внешнего контура можно получить через `exterior` свойства, а координаты внутренних контуров через `interior`."
   ]
  },
  {
   "cell_type": "code",
   "execution_count": 25,
   "id": "ad7bf1b3",
   "metadata": {},
   "outputs": [
    {
     "data": {
      "text/plain": [
       "[(59.928813, 30.268443),\n",
       " (59.928813, 30.268443),\n",
       " (59.931574, 30.268144),\n",
       " (59.929816, 30.27),\n",
       " (59.928813, 30.268443)]"
      ]
     },
     "execution_count": 25,
     "metadata": {},
     "output_type": "execute_result"
    }
   ],
   "source": [
    "list(poly_mining.exterior.coords)"
   ]
  },
  {
   "cell_type": "markdown",
   "id": "277a0674",
   "metadata": {},
   "source": [
    "Обратите внимание, что в полученном полигоне координаты первой точки повторяются еще и в конце. Таким образом достигается замкнутость полигона."
   ]
  },
  {
   "cell_type": "code",
   "execution_count": 44,
   "id": "4d6a53d6",
   "metadata": {},
   "outputs": [
    {
     "name": "stdout",
     "output_type": "stream",
     "text": [
      "Длина исходного списка координат: 4, длина списка координат объекта shapely: 5\n"
     ]
    }
   ],
   "source": [
    "print(f'Длина исходного списка координат: {len(list(pointList))},'\\\n",
    "      f' длина списка координат объекта shapely: {len(list(poly_mining.exterior.coords))}'\n",
    "      )"
   ]
  },
  {
   "cell_type": "markdown",
   "id": "47b028d4",
   "metadata": {},
   "source": [
    "## Создание объектов из словаря"
   ]
  },
  {
   "cell_type": "markdown",
   "id": "6f99733b",
   "metadata": {},
   "source": [
    "При создании словаря, который будет конвертироваться в пространственный объект, фактически используется `geojson`, который является универсальным форматом данных, не привязанным к конкретному языку программирования. \n",
    "\n",
    "Этот формат основан на JavaScript object notation (JSON).\n",
    "\n",
    "В GeoJSON объект состоит из набора пар ключ/значение, также называемых свойствами. Имя каждого свойства – строка. Значение свойства может представлять собой строку, число, объект, массив или один из литералов: «true», «false» и «null». \n",
    "Подробнее о формате можно почитать [здесь](https://geojson.org/)"
   ]
  },
  {
   "cell_type": "markdown",
   "id": "d856f3c4",
   "metadata": {},
   "source": [
    "### Точки\n",
    "\n",
    "При создании точки из словаря, в нем обязательно должны быть два основных свойства:\n",
    "- \"type\" - тип геометрии объекта;\n",
    "- \"coordinates\" - перечень координат в виде списков или кортежей."
   ]
  },
  {
   "cell_type": "code",
   "execution_count": 26,
   "id": "a392c3b7",
   "metadata": {},
   "outputs": [],
   "source": [
    "from shapely.geometry import shape"
   ]
  },
  {
   "cell_type": "code",
   "execution_count": 27,
   "id": "bf05054d",
   "metadata": {},
   "outputs": [],
   "source": [
    "pin_itmo_geojson ={\"type\":\"Point\",\n",
    "                   \"coordinates\":[59.944295,30.265266]\n",
    "                   }"
   ]
  },
  {
   "cell_type": "code",
   "execution_count": 28,
   "id": "6b06f0e5",
   "metadata": {},
   "outputs": [
    {
     "name": "stdout",
     "output_type": "stream",
     "text": [
      "Текущий тип объекта: <class 'dict'>\n"
     ]
    }
   ],
   "source": [
    "print(f\"Текущий тип объекта: {type(pin_itmo_geojson)}\")"
   ]
  },
  {
   "cell_type": "code",
   "execution_count": 29,
   "id": "344bbf05",
   "metadata": {},
   "outputs": [],
   "source": [
    "pin_itmo1 = shape (pin_itmo_geojson)"
   ]
  },
  {
   "cell_type": "code",
   "execution_count": 30,
   "id": "c9a26699",
   "metadata": {},
   "outputs": [
    {
     "data": {
      "image/svg+xml": [
       "<svg xmlns=\"http://www.w3.org/2000/svg\" xmlns:xlink=\"http://www.w3.org/1999/xlink\" width=\"100.0\" height=\"100.0\" viewBox=\"58.944295 29.265266 2.0 2.0\" preserveAspectRatio=\"xMinYMin meet\"><g transform=\"matrix(1,0,0,-1,0,60.530532)\"><circle cx=\"59.944295\" cy=\"30.265266\" r=\"0.06\" stroke=\"#555555\" stroke-width=\"0.02\" fill=\"#66cc99\" opacity=\"0.6\" /></g></svg>"
      ],
      "text/plain": [
       "<shapely.geometry.point.Point at 0x24cff16f130>"
      ]
     },
     "execution_count": 30,
     "metadata": {},
     "output_type": "execute_result"
    }
   ],
   "source": [
    "pin_itmo1"
   ]
  },
  {
   "cell_type": "code",
   "execution_count": 31,
   "id": "79182d00",
   "metadata": {},
   "outputs": [
    {
     "name": "stdout",
     "output_type": "stream",
     "text": [
      "Текущий тип объекта: <class 'shapely.geometry.point.Point'>\n"
     ]
    }
   ],
   "source": [
    "print(f\"Текущий тип объекта: {type(pin_itmo1)}\")"
   ]
  },
  {
   "cell_type": "markdown",
   "id": "83b8b647",
   "metadata": {},
   "source": [
    "### Линии"
   ]
  },
  {
   "cell_type": "code",
   "execution_count": 32,
   "id": "f67afbc2",
   "metadata": {},
   "outputs": [],
   "source": [
    "line_geojson = {\"type\":\"Linestring\",\n",
    "                \"coordinates\": [[59.929624, 30.268675],\n",
    "                                [59.936355, 30.257589]],\n",
    "                }\n",
    "\n",
    "line3 = shape (line_geojson)"
   ]
  },
  {
   "cell_type": "code",
   "execution_count": 33,
   "id": "371c8d41",
   "metadata": {},
   "outputs": [
    {
     "name": "stdout",
     "output_type": "stream",
     "text": [
      "Текущий тип объекта: <class 'shapely.geometry.linestring.LineString'>\n"
     ]
    }
   ],
   "source": [
    "print(f\"Текущий тип объекта: {type(line2)}\")"
   ]
  },
  {
   "cell_type": "code",
   "execution_count": 34,
   "id": "2debec5f",
   "metadata": {},
   "outputs": [
    {
     "data": {
      "image/svg+xml": [
       "<svg xmlns=\"http://www.w3.org/2000/svg\" xmlns:xlink=\"http://www.w3.org/1999/xlink\" width=\"100.0\" height=\"100.0\" viewBox=\"59.92918056 30.257145559999998 0.007617879999997967 0.011972880000005404\" preserveAspectRatio=\"xMinYMin meet\"><g transform=\"matrix(1,0,0,-1,0,60.526264)\"><polyline fill=\"none\" stroke=\"#66cc99\" stroke-width=\"0.00023945760000010808\" points=\"59.929624,30.268675 59.936355,30.257589\" opacity=\"0.8\" /></g></svg>"
      ],
      "text/plain": [
       "<shapely.geometry.linestring.LineString at 0x24cecd02710>"
      ]
     },
     "execution_count": 34,
     "metadata": {},
     "output_type": "execute_result"
    }
   ],
   "source": [
    "line3"
   ]
  },
  {
   "cell_type": "markdown",
   "id": "b827c21f",
   "metadata": {},
   "source": [
    "### Полигоны"
   ]
  },
  {
   "cell_type": "code",
   "execution_count": 35,
   "id": "19287cce",
   "metadata": {},
   "outputs": [],
   "source": [
    "poly_mining_geojson ={\"type\":\"Polygon\",\n",
    "                      \"coordinates\": [[[59.928795, 30.268423],\n",
    "                                       [59.930972, 30.265923],\n",
    "                                       [59.931569, 30.268101],\n",
    "                                       [59.929806, 30.269936],\n",
    "                                       [59.928795, 30.268423]]],\n",
    "                       }\n",
    "\n",
    "poly_mining2 = shape(poly_mining_geojson)"
   ]
  },
  {
   "cell_type": "code",
   "execution_count": 36,
   "id": "9462ba36",
   "metadata": {},
   "outputs": [
    {
     "name": "stdout",
     "output_type": "stream",
     "text": [
      "Текущий тип объекта: <class 'shapely.geometry.polygon.Polygon'>\n"
     ]
    }
   ],
   "source": [
    "print(f\"Текущий тип объекта: {type(poly_mining2)}\")"
   ]
  },
  {
   "cell_type": "code",
   "execution_count": 37,
   "id": "1a636474",
   "metadata": {},
   "outputs": [
    {
     "data": {
      "image/svg+xml": [
       "<svg xmlns=\"http://www.w3.org/2000/svg\" xmlns:xlink=\"http://www.w3.org/1999/xlink\" width=\"100.0\" height=\"100.0\" viewBox=\"59.92863448 30.26576248 0.003095040000005156 0.00433404000000337\" preserveAspectRatio=\"xMinYMin meet\"><g transform=\"matrix(1,0,0,-1,0,60.535859)\"><path fill-rule=\"evenodd\" fill=\"#66cc99\" stroke=\"#555555\" stroke-width=\"8.668080000006739e-05\" opacity=\"0.6\" d=\"M 59.928795,30.268423 L 59.930972,30.265923 L 59.931569,30.268101 L 59.929806,30.269936 L 59.928795,30.268423 z\" /></g></svg>"
      ],
      "text/plain": [
       "<shapely.geometry.polygon.Polygon at 0x24cff16f100>"
      ]
     },
     "execution_count": 37,
     "metadata": {},
     "output_type": "execute_result"
    }
   ],
   "source": [
    "poly_mining2"
   ]
  },
  {
   "cell_type": "markdown",
   "id": "3ea4c85e",
   "metadata": {},
   "source": [
    "## Создание объектов из текстовой строки\n",
    "\n",
    "В этом случае описание объектов должно строиться на основе формата [WKT](https://ru.wikipedia.org/wiki/WKT) "
   ]
  },
  {
   "attachments": {
    "WKT.png": {
     "image/png": "[encoded data removed]"
    }
   },
   "cell_type": "markdown",
   "id": "6dd4065d",
   "metadata": {},
   "source": [
    "![WKT.png](attachment:WKT.png)"
   ]
  },
  {
   "cell_type": "code",
   "execution_count": null,
   "id": "96955045",
   "metadata": {},
   "outputs": [],
   "source": [
    "from shapely import wkt"
   ]
  },
  {
   "cell_type": "markdown",
   "id": "b368c966",
   "metadata": {},
   "source": [
    "Для того, чтобы строка в формате WKT была преобразована в геометрический пространственный объект нужно воспользоваться функцией `wkt.loads` (load string). "
   ]
  },
  {
   "cell_type": "markdown",
   "id": "15928a52",
   "metadata": {},
   "source": [
    "### Точки"
   ]
  },
  {
   "cell_type": "code",
   "execution_count": null,
   "id": "f89029ce",
   "metadata": {},
   "outputs": [],
   "source": [
    "pin_itmo2 = wkt.loads('POINT (59.944295,30.265266)')\n",
    "\n",
    "print(f\"Тип объекта: {type(pin_itmo2)}\")"
   ]
  },
  {
   "cell_type": "code",
   "execution_count": null,
   "id": "d4549a8a",
   "metadata": {},
   "outputs": [],
   "source": [
    "pin_itmo2"
   ]
  },
  {
   "cell_type": "markdown",
   "id": "488d4c91",
   "metadata": {},
   "source": [
    "### Линии"
   ]
  },
  {
   "cell_type": "code",
   "execution_count": null,
   "id": "db80a1a5",
   "metadata": {},
   "outputs": [],
   "source": [
    "line_wkt = 'LINESTRING (59.929624 30.268675, 59.936355 30.257589)'\n",
    "\n",
    "line4 = wkt.loads (line_wkt)"
   ]
  },
  {
   "cell_type": "code",
   "execution_count": null,
   "id": "a83455c7",
   "metadata": {},
   "outputs": [],
   "source": [
    "print(f\"Тип объекта: {type(line4)}\")"
   ]
  },
  {
   "cell_type": "code",
   "execution_count": null,
   "id": "bc7afe54",
   "metadata": {},
   "outputs": [],
   "source": [
    "line4"
   ]
  },
  {
   "cell_type": "markdown",
   "id": "33c6165b",
   "metadata": {},
   "source": [
    "### Полигоны"
   ]
  },
  {
   "cell_type": "code",
   "execution_count": 46,
   "id": "2a650fd2",
   "metadata": {},
   "outputs": [
    {
     "ename": "IndentationError",
     "evalue": "unexpected indent (3727417083.py, line 2)",
     "output_type": "error",
     "traceback": [
      "\u001b[1;36m  Cell \u001b[1;32mIn [46], line 2\u001b[1;36m\u001b[0m\n\u001b[1;33m    f' 59.929806 30.269936, 59.928795 30.268423))'\u001b[0m\n\u001b[1;37m    ^\u001b[0m\n\u001b[1;31mIndentationError\u001b[0m\u001b[1;31m:\u001b[0m unexpected indent\n"
     ]
    }
   ],
   "source": [
    "poly_mining_str = f'POLYGON ((59.928795 30.268423, 59.930972 30.265923, 59.931569 30.268101, 59.929806 30.269936, 59.928795 30.268423))'\n",
    "\n",
    "poly_mining4 = wkt.loads(poly_mining_str)"
   ]
  },
  {
   "cell_type": "markdown",
   "id": "c58db313",
   "metadata": {},
   "source": [
    "Обратите внимание, что при создании полигонов таким способом в строке с перечнем координат координаты первой точки должны обязательно также повторяться в конце."
   ]
  },
  {
   "cell_type": "markdown",
   "id": "1a93a62a",
   "metadata": {},
   "source": [
    "## Основные свойства объектов"
   ]
  },
  {
   "cell_type": "markdown",
   "id": "0830261f",
   "metadata": {},
   "source": [
    "- `object.area` - возвращает площадь объектов в виде числа `float` (у точечных и линейных объектов будет нулевой)"
   ]
  },
  {
   "cell_type": "code",
   "execution_count": 47,
   "id": "f542b4be",
   "metadata": {},
   "outputs": [
    {
     "data": {
      "text/plain": [
       "0.0"
      ]
     },
     "execution_count": 47,
     "metadata": {},
     "output_type": "execute_result"
    }
   ],
   "source": [
    "pin_itmo.area"
   ]
  },
  {
   "cell_type": "code",
   "execution_count": 48,
   "id": "2a29a618",
   "metadata": {},
   "outputs": [
    {
     "data": {
      "text/plain": [
       "0.0"
      ]
     },
     "execution_count": 48,
     "metadata": {},
     "output_type": "execute_result"
    }
   ],
   "source": [
    "line.area"
   ]
  },
  {
   "cell_type": "code",
   "execution_count": 49,
   "id": "5ea7ae34",
   "metadata": {},
   "outputs": [
    {
     "data": {
      "text/plain": [
       "2.299386999998814e-06"
      ]
     },
     "execution_count": 49,
     "metadata": {},
     "output_type": "execute_result"
    }
   ],
   "source": [
    "poly_mining.area"
   ]
  },
  {
   "cell_type": "markdown",
   "id": "43195a0f",
   "metadata": {},
   "source": [
    "- `object.length` - возвращает длину объектов в виде числа `float` (у точечных объектов будет нулевой, для линейных объектов будет равна длине линии, а для площадных объектов - периметру)"
   ]
  },
  {
   "cell_type": "code",
   "execution_count": 50,
   "id": "4cb5fa62",
   "metadata": {},
   "outputs": [
    {
     "data": {
      "text/plain": [
       "0.0"
      ]
     },
     "execution_count": 50,
     "metadata": {},
     "output_type": "execute_result"
    }
   ],
   "source": [
    "pin_itmo.length"
   ]
  },
  {
   "cell_type": "code",
   "execution_count": 51,
   "id": "f0ed4e7d",
   "metadata": {},
   "outputs": [
    {
     "data": {
      "text/plain": [
       "0.012969416216625946"
      ]
     },
     "execution_count": 51,
     "metadata": {},
     "output_type": "execute_result"
    }
   ],
   "source": [
    "line.length"
   ]
  },
  {
   "cell_type": "code",
   "execution_count": 52,
   "id": "e19ef4d0",
   "metadata": {},
   "outputs": [
    {
     "data": {
      "text/plain": [
       "0.007185661628829153"
      ]
     },
     "execution_count": 52,
     "metadata": {},
     "output_type": "execute_result"
    }
   ],
   "source": [
    "poly_mining.length"
   ]
  },
  {
   "cell_type": "markdown",
   "id": "11adf0b1",
   "metadata": {},
   "source": [
    "- `object.bounds` - возвращает кортеж координат (minx, miny, maxx, maxy) из числовых значений; полученные границы полностью охватывают объект"
   ]
  },
  {
   "cell_type": "code",
   "execution_count": 53,
   "id": "b5fc7a87",
   "metadata": {},
   "outputs": [
    {
     "data": {
      "text/plain": [
       "(59.944295, 30.265266, 59.944295, 30.265266)"
      ]
     },
     "execution_count": 53,
     "metadata": {},
     "output_type": "execute_result"
    }
   ],
   "source": [
    "pin_itmo.bounds"
   ]
  },
  {
   "cell_type": "code",
   "execution_count": 54,
   "id": "a555a32f",
   "metadata": {},
   "outputs": [
    {
     "data": {
      "text/plain": [
       "(59.929624, 30.257589, 59.936355, 30.268675)"
      ]
     },
     "execution_count": 54,
     "metadata": {},
     "output_type": "execute_result"
    }
   ],
   "source": [
    "line.bounds"
   ]
  },
  {
   "cell_type": "code",
   "execution_count": 55,
   "id": "decfb874",
   "metadata": {},
   "outputs": [
    {
     "data": {
      "text/plain": [
       "(59.928813, 30.268144, 59.931574, 30.27)"
      ]
     },
     "execution_count": 55,
     "metadata": {},
     "output_type": "execute_result"
    }
   ],
   "source": [
    "poly_mining.bounds"
   ]
  },
  {
   "cell_type": "markdown",
   "id": "0fec9690",
   "metadata": {},
   "source": [
    "## Геометрические предикаты\n",
    "\n",
    "Все геометрические предикаты возвращают только **True** или **False**.\n",
    "\n",
    "### Унарные предикаты\n",
    "\n",
    "Это атрибуты объектов.\n",
    "При их использовании задействуется только один объект.\n",
    "\n",
    "- `object.is_empty` - возвращает **True**, если объект является пустым набором"
   ]
  },
  {
   "cell_type": "code",
   "execution_count": 56,
   "id": "2f7ee24e",
   "metadata": {},
   "outputs": [
    {
     "data": {
      "text/plain": [
       "False"
      ]
     },
     "execution_count": 56,
     "metadata": {},
     "output_type": "execute_result"
    }
   ],
   "source": [
    "pin_itmo.is_empty"
   ]
  },
  {
   "cell_type": "code",
   "execution_count": null,
   "id": "e384e893",
   "metadata": {},
   "outputs": [],
   "source": [
    "Point().is_empty"
   ]
  },
  {
   "cell_type": "markdown",
   "id": "b7a7ab20",
   "metadata": {},
   "source": [
    "- `object.is_ring` - проверяет является ли объект замкнутой ломаной линией; имеет значение только для `LineString` и `LineRing` объектов"
   ]
  },
  {
   "cell_type": "code",
   "execution_count": 58,
   "id": "1d084ebb",
   "metadata": {},
   "outputs": [
    {
     "data": {
      "text/plain": [
       "False"
      ]
     },
     "execution_count": 58,
     "metadata": {},
     "output_type": "execute_result"
    }
   ],
   "source": [
    "line1.is_ring"
   ]
  },
  {
   "cell_type": "code",
   "execution_count": 59,
   "id": "84c8b2ac",
   "metadata": {},
   "outputs": [
    {
     "data": {
      "text/plain": [
       "True"
      ]
     },
     "execution_count": 59,
     "metadata": {},
     "output_type": "execute_result"
    }
   ],
   "source": [
    "line2.is_ring"
   ]
  },
  {
   "cell_type": "markdown",
   "id": "56e3706f",
   "metadata": {},
   "source": [
    "- `object.is_simple` - возвращает **True**, если объект не пересекает сам себя; имеет значение только для `LineString` и `LineRing` объектов"
   ]
  },
  {
   "cell_type": "code",
   "execution_count": 60,
   "id": "d1969f93",
   "metadata": {},
   "outputs": [
    {
     "data": {
      "text/plain": [
       "True"
      ]
     },
     "execution_count": 60,
     "metadata": {},
     "output_type": "execute_result"
    }
   ],
   "source": [
    "line1.is_simple"
   ]
  },
  {
   "cell_type": "code",
   "execution_count": 61,
   "id": "0496ceff",
   "metadata": {},
   "outputs": [
    {
     "data": {
      "text/plain": [
       "True"
      ]
     },
     "execution_count": 61,
     "metadata": {},
     "output_type": "execute_result"
    }
   ],
   "source": [
    "line2.is_simple"
   ]
  },
  {
   "cell_type": "markdown",
   "id": "6b73b369",
   "metadata": {},
   "source": [
    "- `object.is_valid` - возвращает **True**, если объект не имеет топологических ошибок; имеет значение только для `Polygon` и `MultiPolygon` объектов, для всех остальных объектов всегда возвращает **True**"
   ]
  },
  {
   "cell_type": "code",
   "execution_count": 62,
   "id": "2d76d742",
   "metadata": {},
   "outputs": [
    {
     "data": {
      "text/plain": [
       "True"
      ]
     },
     "execution_count": 62,
     "metadata": {},
     "output_type": "execute_result"
    }
   ],
   "source": [
    "poly_mining.is_valid"
   ]
  },
  {
   "cell_type": "code",
   "execution_count": null,
   "id": "cb061774",
   "metadata": {},
   "outputs": [],
   "source": []
  }
 ],
 "metadata": {
  "kernelspec": {
   "display_name": "Python 3 (ipykernel)",
   "language": "python",
   "name": "python3"
  },
  "language_info": {
   "codemirror_mode": {
    "name": "ipython",
    "version": 3
   },
   "file_extension": ".py",
   "mimetype": "text/x-python",
   "name": "python",
   "nbconvert_exporter": "python",
   "pygments_lexer": "ipython3",
   "version": "3.10.7"
  }
 },
 "nbformat": 4,
 "nbformat_minor": 5
}
